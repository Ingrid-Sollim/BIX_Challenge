{
 "cells": [
  {
   "cell_type": "code",
   "execution_count": 0,
   "metadata": {
    "application/vnd.databricks.v1+cell": {
     "cellMetadata": {
      "byteLimit": 2048000,
      "rowLimit": 10000
     },
     "inputWidgets": {},
     "nuid": "2b966228-6b1c-4760-ae9c-49cdfc1f6dc8",
     "showTitle": false,
     "title": ""
    }
   },
   "outputs": [
    {
     "output_type": "stream",
     "name": "stdout",
     "output_type": "stream",
     "text": [
      "Collecting msal\r\n  Downloading msal-1.22.0-py2.py3-none-any.whl (90 kB)\r\n\u001B[?25l\r\u001B[K     |███▋                            | 10 kB 32.7 MB/s eta 0:00:01\r\u001B[K     |███████▎                        | 20 kB 37.0 MB/s eta 0:00:01\r\u001B[K     |███████████                     | 30 kB 45.3 MB/s eta 0:00:01\r\u001B[K     |██████████████▋                 | 40 kB 19.0 MB/s eta 0:00:01\r\u001B[K     |██████████████████▏             | 51 kB 21.9 MB/s eta 0:00:01\r\u001B[K     |█████████████████████▉          | 61 kB 25.2 MB/s eta 0:00:01\r\u001B[K     |█████████████████████████▌      | 71 kB 21.2 MB/s eta 0:00:01\r\u001B[K     |█████████████████████████████▏  | 81 kB 23.3 MB/s eta 0:00:01\r\u001B[K     |████████████████████████████████| 90 kB 170 kB/s \r\n\u001B[?25hRequirement already satisfied: cryptography<43,>=0.6 in /databricks/python3/lib/python3.9/site-packages (from msal) (3.4.8)\r\nRequirement already satisfied: requests<3,>=2.0.0 in /databricks/python3/lib/python3.9/site-packages (from msal) (2.26.0)\r\nCollecting PyJWT[crypto]<3,>=1.0.0\r\n  Downloading PyJWT-2.7.0-py3-none-any.whl (22 kB)\r\nRequirement already satisfied: cffi>=1.12 in /databricks/python3/lib/python3.9/site-packages (from cryptography<43,>=0.6->msal) (1.14.6)\r\nRequirement already satisfied: pycparser in /databricks/python3/lib/python3.9/site-packages (from cffi>=1.12->cryptography<43,>=0.6->msal) (2.20)\r\nRequirement already satisfied: idna<4,>=2.5 in /databricks/python3/lib/python3.9/site-packages (from requests<3,>=2.0.0->msal) (3.2)\r\nRequirement already satisfied: charset-normalizer~=2.0.0 in /databricks/python3/lib/python3.9/site-packages (from requests<3,>=2.0.0->msal) (2.0.4)\r\nRequirement already satisfied: urllib3<1.27,>=1.21.1 in /databricks/python3/lib/python3.9/site-packages (from requests<3,>=2.0.0->msal) (1.26.7)\r\nRequirement already satisfied: certifi>=2017.4.17 in /databricks/python3/lib/python3.9/site-packages (from requests<3,>=2.0.0->msal) (2021.10.8)\r\nInstalling collected packages: PyJWT, msal\r\nSuccessfully installed PyJWT-2.7.0 msal-1.22.0\r\n\u001B[33mWARNING: You are using pip version 21.2.4; however, version 23.1.2 is available.\r\nYou should consider upgrading via the '/local_disk0/.ephemeral_nfs/envs/pythonEnv-1c227a2e-88db-45de-927f-caa22b19292b/bin/python -m pip install --upgrade pip' command.\u001B[0m\r\n"
     ]
    }
   ],
   "source": [
    "#!pip install msal\n",
    "#import msal\n",
    "import pandas as pd\n",
    "import requests"
   ]
  },
  {
   "cell_type": "markdown",
   "metadata": {
    "application/vnd.databricks.v1+cell": {
     "cellMetadata": {},
     "inputWidgets": {},
     "nuid": "0bf9a9da-63ad-46e0-b892-2a7127511ced",
     "showTitle": false,
     "title": ""
    }
   },
   "source": [
    "# Fucntion to connect to the API"
   ]
  },
  {
   "cell_type": "code",
   "execution_count": 0,
   "metadata": {
    "application/vnd.databricks.v1+cell": {
     "cellMetadata": {
      "byteLimit": 2048000,
      "rowLimit": 10000
     },
     "inputWidgets": {},
     "nuid": "3959a329-2a60-4c5b-8254-4162a8ba30ea",
     "showTitle": false,
     "title": ""
    }
   },
   "outputs": [],
   "source": [
    "#Endpoint API\n",
    "url = \"https://us-central1-bix-tecnologia-prd.cloudfunctions.net/api_challenge_junior?id=\"\n"
   ]
  },
  {
   "cell_type": "code",
   "execution_count": 0,
   "metadata": {
    "application/vnd.databricks.v1+cell": {
     "cellMetadata": {
      "byteLimit": 2048000,
      "rowLimit": 10000
     },
     "inputWidgets": {},
     "nuid": "fa4421ce-060b-4af6-bd49-1fbbda6e49a6",
     "showTitle": false,
     "title": ""
    }
   },
   "outputs": [],
   "source": [
    "def return_df(r):\n",
    "    # Check if the request was successful (status code 200)\n",
    "    if r.status_code == 200:\n",
    "        # Convert the response JSON data to an RDD\n",
    "        json_data = spark.sparkContext.parallelize([r.text])\n",
    "        # Read the JSON data into a DataFrame\n",
    "        df = spark.read.json(json_data)\n",
    "        # Process and analyze the data as needed\n",
    "        return df\n",
    "    else:\n",
    "        print(\"Error:\", r.status_code)"
   ]
  },
  {
   "cell_type": "markdown",
   "metadata": {
    "application/vnd.databricks.v1+cell": {
     "cellMetadata": {},
     "inputWidgets": {},
     "nuid": "a07b3a2c-ede7-4839-9363-1b0faebb7318",
     "showTitle": false,
     "title": ""
    }
   },
   "source": [
    "# Loop to extract all the employees names"
   ]
  },
  {
   "cell_type": "code",
   "execution_count": 0,
   "metadata": {
    "application/vnd.databricks.v1+cell": {
     "cellMetadata": {
      "byteLimit": 2048000,
      "rowLimit": 10000
     },
     "inputWidgets": {},
     "nuid": "4ecc4a40-9675-412e-8cd6-9a700e3a3e51",
     "showTitle": false,
     "title": ""
    }
   },
   "outputs": [],
   "source": [
    "from pyspark.sql.functions import col,trim, lit\n",
    "#Insert every record in a table\n",
    "table = None\n",
    "for line in range(1,10):\n",
    "    upd_url = url+str(line)\n",
    "    r = requests.get(upd_url)\n",
    "    new_df = return_df(r)\n",
    "    if table is None:\n",
    "        table = new_df.withColumn(\"id\", lit(line))  \n",
    "    else:\n",
    "        new_df_with_id = new_df.withColumn(\"id\", lit(line))  # Add the \"id\" column to the new DataFrame\n",
    "        table = table.union(new_df_with_id)\n",
    "\n",
    "\n",
    "    "
   ]
  },
  {
   "cell_type": "code",
   "execution_count": 0,
   "metadata": {
    "application/vnd.databricks.v1+cell": {
     "cellMetadata": {
      "byteLimit": 2048000,
      "rowLimit": 10000
     },
     "inputWidgets": {},
     "nuid": "5ba8da4b-9ab9-49ec-a8ab-d2315b765a5d",
     "showTitle": false,
     "title": ""
    }
   },
   "outputs": [
    {
     "output_type": "stream",
     "name": "stdout",
     "output_type": "stream",
     "text": [
      "+----------------+---+\n| _corrupt_record| id|\n+----------------+---+\n|     Rob Carsson|  1|\n|     Eli Preston|  2|\n|    Tom Lindwall|  3|\n|      Leif Shine|  4|\n|  Ingrid Hendrix|  5|\n|Lennart Skoglund|  6|\n|    Rock Rollman|  7|\n|    Helen Brolin|  8|\n|    Joan Callins|  9|\n+----------------+---+\n\n"
     ]
    }
   ],
   "source": [
    "table.show()"
   ]
  },
  {
   "cell_type": "markdown",
   "metadata": {
    "application/vnd.databricks.v1+cell": {
     "cellMetadata": {},
     "inputWidgets": {},
     "nuid": "55368c35-c997-4473-a65c-94352872a1fd",
     "showTitle": false,
     "title": ""
    }
   },
   "source": [
    "#Rename columns"
   ]
  },
  {
   "cell_type": "code",
   "execution_count": 0,
   "metadata": {
    "application/vnd.databricks.v1+cell": {
     "cellMetadata": {
      "byteLimit": 2048000,
      "rowLimit": 10000
     },
     "inputWidgets": {},
     "nuid": "0e570c73-04fb-491d-ade0-e2f253809f92",
     "showTitle": false,
     "title": ""
    }
   },
   "outputs": [],
   "source": [
    "\n",
    "cleaned_table = table.withColumnRenamed(\"_corrupt_record\",\"Employee\").\\\n",
    "    withColumn(\"Employee\", trim(col(\"Employee\")))\n"
   ]
  },
  {
   "cell_type": "code",
   "execution_count": 0,
   "metadata": {
    "application/vnd.databricks.v1+cell": {
     "cellMetadata": {
      "byteLimit": 2048000,
      "rowLimit": 10000
     },
     "inputWidgets": {},
     "nuid": "20bb831b-9b30-49d1-bcd0-fe8d80024b96",
     "showTitle": false,
     "title": ""
    }
   },
   "outputs": [
    {
     "output_type": "display_data",
     "data": {
      "text/html": [
       "<style scoped>\n",
       "  .table-result-container {\n",
       "    max-height: 300px;\n",
       "    overflow: auto;\n",
       "  }\n",
       "  table, th, td {\n",
       "    border: 1px solid black;\n",
       "    border-collapse: collapse;\n",
       "  }\n",
       "  th, td {\n",
       "    padding: 5px;\n",
       "  }\n",
       "  th {\n",
       "    text-align: left;\n",
       "  }\n",
       "</style><div class='table-result-container'><table class='table-result'><thead style='background-color: white'><tr><th>Employee</th><th>id</th></tr></thead><tbody><tr><td>Rob Carsson</td><td>1</td></tr><tr><td>Eli Preston</td><td>2</td></tr><tr><td>Tom Lindwall</td><td>3</td></tr><tr><td>Leif Shine</td><td>4</td></tr><tr><td>Ingrid Hendrix</td><td>5</td></tr><tr><td>Lennart Skoglund</td><td>6</td></tr><tr><td>Rock Rollman</td><td>7</td></tr><tr><td>Helen Brolin</td><td>8</td></tr><tr><td>Joan Callins</td><td>9</td></tr></tbody></table></div>"
      ]
     },
     "metadata": {
      "application/vnd.databricks.v1+output": {
       "addedWidgets": {},
       "aggData": [],
       "aggError": "",
       "aggOverflow": false,
       "aggSchema": [],
       "aggSeriesLimitReached": false,
       "aggType": "",
       "arguments": {},
       "columnCustomDisplayInfos": {},
       "data": [
        [
         "Rob Carsson",
         1
        ],
        [
         "Eli Preston",
         2
        ],
        [
         "Tom Lindwall",
         3
        ],
        [
         "Leif Shine",
         4
        ],
        [
         "Ingrid Hendrix",
         5
        ],
        [
         "Lennart Skoglund",
         6
        ],
        [
         "Rock Rollman",
         7
        ],
        [
         "Helen Brolin",
         8
        ],
        [
         "Joan Callins",
         9
        ]
       ],
       "datasetInfos": [],
       "dbfsResultPath": null,
       "isJsonSchema": true,
       "metadata": {},
       "overflow": false,
       "plotOptions": {
        "customPlotOptions": {},
        "displayType": "table",
        "pivotAggregation": null,
        "pivotColumns": null,
        "xColumns": null,
        "yColumns": null
       },
       "removedWidgets": [],
       "schema": [
        {
         "metadata": "{}",
         "name": "Employee",
         "type": "\"string\""
        },
        {
         "metadata": "{}",
         "name": "id",
         "type": "\"integer\""
        }
       ],
       "type": "table"
      }
     },
     "output_type": "display_data"
    }
   ],
   "source": [
    "cleaned_table.display()"
   ]
  },
  {
   "cell_type": "markdown",
   "metadata": {
    "application/vnd.databricks.v1+cell": {
     "cellMetadata": {},
     "inputWidgets": {},
     "nuid": "1ea02f61-e20d-404b-86ca-fc3b5a89c0a5",
     "showTitle": false,
     "title": ""
    }
   },
   "source": [
    "# Database connection"
   ]
  },
  {
   "cell_type": "code",
   "execution_count": 0,
   "metadata": {
    "application/vnd.databricks.v1+cell": {
     "cellMetadata": {
      "byteLimit": 2048000,
      "rowLimit": 10000
     },
     "inputWidgets": {},
     "nuid": "4c8ea87f-df42-4330-9975-0980581c004e",
     "showTitle": false,
     "title": ""
    }
   },
   "outputs": [],
   "source": [
    "jdbcUsername = \"admin-srv\"\n",
    "jdbcPassword = \"0v954UDJ*Y2G\"\n",
    "jdbcHostname = \"srv-fab-projetos.database.windows.net\"\n",
    "jdbcPort = 1433\n",
    "jdbcDatabase = \"db-fab-projetos\"\n",
    "\n",
    "jdbcUrl = \"jdbc:sqlserver://{0}:{1};database={2}\".format(jdbcHostname, jdbcPort, jdbcDatabase)\n",
    "\n",
    "connectionProperties = {\n",
    "  \"user\" : jdbcUsername,\n",
    "  \"password\" : jdbcPassword,\n",
    "  \"driver\" : \"com.microsoft.sqlserver.jdbc.SQLServerDriver\"\n",
    "}\n",
    "\n",
    "table_name = 'sollim.employee'"
   ]
  },
  {
   "cell_type": "markdown",
   "metadata": {
    "application/vnd.databricks.v1+cell": {
     "cellMetadata": {},
     "inputWidgets": {},
     "nuid": "573540e4-930f-4cb5-9c7a-ac9f656e8294",
     "showTitle": false,
     "title": ""
    }
   },
   "source": [
    "# Insert into database"
   ]
  },
  {
   "cell_type": "code",
   "execution_count": 0,
   "metadata": {
    "application/vnd.databricks.v1+cell": {
     "cellMetadata": {
      "byteLimit": 2048000,
      "rowLimit": 10000
     },
     "inputWidgets": {},
     "nuid": "a33e66c0-34f8-4200-849c-7583ee506d75",
     "showTitle": false,
     "title": ""
    }
   },
   "outputs": [],
   "source": [
    "cleaned_table.write \\\n",
    "  .format(\"jdbc\") \\\n",
    "  .option(\"url\", jdbcUrl) \\\n",
    "  .option(\"dbtable\", table_name) \\\n",
    "  .mode(\"overwrite\") \\\n",
    "  .options(**connectionProperties) \\\n",
    "  .save()"
   ]
  },
  {
   "cell_type": "code",
   "execution_count": 0,
   "metadata": {
    "application/vnd.databricks.v1+cell": {
     "cellMetadata": {},
     "inputWidgets": {},
     "nuid": "e1ef8fa6-5b79-49de-acb1-2af46b644d86",
     "showTitle": false,
     "title": ""
    }
   },
   "outputs": [],
   "source": []
  }
 ],
 "metadata": {
  "application/vnd.databricks.v1+notebook": {
   "dashboards": [],
   "language": "python",
   "notebookMetadata": {
    "pythonIndentUnit": 4
   },
   "notebookName": "read_API",
   "widgets": {}
  }
 },
 "nbformat": 4,
 "nbformat_minor": 0
}
